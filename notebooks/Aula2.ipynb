{
  "nbformat": 4,
  "nbformat_minor": 0,
  "metadata": {
    "colab": {
      "name": "Aula2.ipynb",
      "provenance": [],
      "collapsed_sections": [
        "O2nRIjycwnwI",
        "9NL4t9QM5YAL",
        "qPH2n3CADuq2"
      ]
    },
    "kernelspec": {
      "name": "python3",
      "display_name": "Python 3"
    },
    "language_info": {
      "name": "python"
    }
  },
  "cells": [
    {
      "cell_type": "markdown",
      "metadata": {
        "id": "VV-F-lxY_k2z"
      },
      "source": [
        "## Anotações e Input/output de sequências\n",
        "\n",
        "\n",
        "\n",
        "Tópicos:\n",
        "\n",
        "* Objeto SeqRecord\n",
        "* Módulo SeqIO.parse\n",
        "* Módulo SeqIO.write"
      ]
    },
    {
      "cell_type": "markdown",
      "metadata": {
        "id": "p-Ss-i-ZbQ5b"
      },
      "source": [
        "####Recapitulando \n",
        "\n",
        "Na aula anterior aprendemos a criar e manipular o objeto sequência (Seq), bem como a vantagens de ter um objeto ao invés de usar uma string"
      ]
    },
    {
      "cell_type": "code",
      "metadata": {
        "colab": {
          "base_uri": "https://localhost:8080/"
        },
        "id": "5urAK5bMbqD_",
        "outputId": "ad48ce3f-172c-4e56-90e2-2271d121beed"
      },
      "source": [
        "!pip install biopython"
      ],
      "execution_count": 4,
      "outputs": [
        {
          "output_type": "stream",
          "text": [
            "Collecting biopython\n",
            "  Downloading biopython-1.79-cp37-cp37m-manylinux_2_5_x86_64.manylinux1_x86_64.whl (2.3 MB)\n",
            "\u001b[K     |████████████████████████████████| 2.3 MB 7.2 MB/s \n",
            "\u001b[?25hRequirement already satisfied: numpy in /usr/local/lib/python3.7/dist-packages (from biopython) (1.19.5)\n",
            "Installing collected packages: biopython\n",
            "Successfully installed biopython-1.79\n"
          ],
          "name": "stdout"
        }
      ]
    },
    {
      "cell_type": "code",
      "metadata": {
        "id": "MGvMmi84blxD"
      },
      "source": [
        "from Bio.Seq import Seq\n",
        "\n",
        "#criando o objeto Seq\n",
        "my_seq = Seq(\"AGTACACTGGT\")\n",
        "print(my_seq)\n",
        "\n",
        "#usando médodos do objeto\n",
        "print(my_seq.complement())\n",
        "print(my_seq.reverse_complement())\n",
        "\n"
      ],
      "execution_count": null,
      "outputs": []
    },
    {
      "cell_type": "markdown",
      "metadata": {
        "id": "rZKJav07eoGp"
      },
      "source": [
        "No entanto, na maioria das vezes não queremos criar essas sequências e sim manipular sequências a partir de algum arquivo externo. \n",
        "Nessa aula iremos aprender a importar arquivos para o biopython, visualizar anotações e escrever arquivos nos diferentes formatos biológicos."
      ]
    },
    {
      "cell_type": "markdown",
      "metadata": {
        "id": "y648X5qVgRq6"
      },
      "source": [
        "# Importando arquivos de sequências"
      ]
    },
    {
      "cell_type": "markdown",
      "metadata": {
        "id": "ShLEg7l5g_dZ"
      },
      "source": [
        "Parte da vida de um bioinformata é lidar com os 3x10^26 formatos de arquivos diferentes, cada qual com seu tipo de dado biológico, estrutura de dados e formatação únicos. Para facilitar sua vida e lhe poupar frustração de ter que escrever \"parsers\" para todos esses arquivos, o biopython já vem com suporte a maioria dos formatos de dados biológicos (Fasta, [Genbank](http://www.genebio.ufba.br/genbank/))"
      ]
    },
    {
      "cell_type": "code",
      "metadata": {
        "id": "Wd-I-4W7oqS1"
      },
      "source": [
        "## nota: o colab reseta todas as vezes que desliga então vamos puxar a página \n",
        "## da web como arquivo. Não é necessário se estiver trabalhando com arquivos locais\n",
        "\n",
        "from urllib.request import urlretrieve\n",
        "\n",
        "# urlretrieve(\"url do arquivo\", \"nome do arquivo\")\n",
        "urlretrieve(\"https://raw.githubusercontent.com/biopython/biopython/master/Tests/GenBank/NC_005816.fna\", \"fasta.fna\")\n",
        "urlretrieve(\"https://raw.githubusercontent.com/biopython/biopython/master/Doc/examples/ls_orchid.gbk\", \"orchid.gbk\")\n"
      ],
      "execution_count": null,
      "outputs": []
    },
    {
      "cell_type": "markdown",
      "metadata": {
        "id": "gDvXJpUNxX_r"
      },
      "source": [
        "Iremos discutir o pacote **Bio.SeqIO**. O objetivo desse pacote é fornecer uma interface simples para trabalhar com diversos formatos de arquivo de sequência de maneira uniforme. Mas **ATENÇÃO**: esse pacote lida apenas com sequências que são **objetos SeqRecord** (o qual contém objetos Seq com anotações e falaremos em breve)."
      ]
    },
    {
      "cell_type": "code",
      "metadata": {
        "id": "b2mU2kYW18db"
      },
      "source": [
        "from Bio import SeqIO"
      ],
      "execution_count": 5,
      "outputs": []
    },
    {
      "cell_type": "markdown",
      "metadata": {
        "id": "1om_MaiEnBeO"
      },
      "source": [
        "A principal função desse módulo, **Bio.SeqIO.parse()** é usada para ler dados de sequências como **objetos SeqRecord**. Esta função espera **dois argumentos**:\n",
        "\n",
        "1. O primeiro argumento é um **handle (identificador)** para ler os dados ou um nome de arquivo. Um handle é normalmente um arquivo aberto para leitura, mas pode ser a saída de um programa de linha de comando ou dados baixados da rede.\n",
        "\n",
        "2. O segundo argumento é uma string com letras minúsculas especificando o **formato** da sequência - consulte http://biopython.org/wiki/SeqIO para obter uma lista completa dos formatos suportados.\n",
        "\n",
        "A função Bio.SeqIO.parse() retorna um **iterador** que fornece objetos SeqRecord. Iteradores são normalmente usado em um \" for loop\" como no exemplo a seguir:\n"
      ]
    },
    {
      "cell_type": "code",
      "metadata": {
        "id": "NyWQGpwWzIc1"
      },
      "source": [
        "from Bio import SeqIO\n",
        "\n",
        "for seq_record in SeqIO.parse(\"fasta.fna\", \"fasta\"):\n",
        "  print(seq_record.id)\n",
        "  print(repr(seq_record.seq))\n",
        "  print(len(seq_record))\n",
        "\n"
      ],
      "execution_count": null,
      "outputs": []
    },
    {
      "cell_type": "code",
      "metadata": {
        "id": "6dX6CQfmuj4F"
      },
      "source": [
        "# recapitulando da aula de ontem\n",
        "'''\n",
        "class Transgenico:\n",
        "  def __init__(self, organismo, dna_organismo=None):\n",
        "    self.organismo = organismo\n",
        "    self.dna_organismo = dna_organismo\n",
        "    \n",
        "milho = Transgenico(\"milho\")\n",
        "milho.dna_organismo = \"ACATCTGATCAGCTACGATCGATCAGCTAGCAT\"\n",
        "print(milho)\n",
        "'''"
      ],
      "execution_count": null,
      "outputs": []
    },
    {
      "cell_type": "markdown",
      "metadata": {
        "id": "wIFc2i1x-uzJ"
      },
      "source": [
        "Note que você *precisa* especificar o formato do arquivo."
      ]
    },
    {
      "cell_type": "markdown",
      "metadata": {
        "id": "hkuS2ZHopube"
      },
      "source": [
        "O objeto retornado por Bio.SeqIO é na verdade um iterador que retorna objetos SeqRecord. Você consegue ver cada registro por vez, mas apenas uma vez. O ponto positivo é que um iterador pode economizar memória ao lidar com arquivos grandes.\n",
        "\n",
        "Em vez de usar um loop for, também pode usar a função nativa **next()** em um iterador para percorrer as entradas."
      ]
    },
    {
      "cell_type": "code",
      "metadata": {
        "id": "H8uxu46Gpt3U"
      },
      "source": [
        "record_iterator = SeqIO.parse(\"orchid.gbk\", \"gb\")\n",
        "\n",
        "# usar next() para ir iterando sequência por sequência\n",
        "first_record = next(record_iterator)\n",
        "print(first_record.id)\n",
        "print(first_record.description)"
      ],
      "execution_count": null,
      "outputs": []
    },
    {
      "cell_type": "code",
      "metadata": {
        "id": "KrArMRa1qGfo"
      },
      "source": [
        "print(next(record_iterator).id)\n",
        "print(first_record.id)"
      ],
      "execution_count": null,
      "outputs": []
    },
    {
      "cell_type": "markdown",
      "metadata": {
        "id": "bdMFbdYxrbf_"
      },
      "source": [
        "Observe que se você tentar usar **next()** e não houver mais resultados, você obterá a exceção \"StopIteration\"."
      ]
    },
    {
      "cell_type": "markdown",
      "metadata": {
        "id": "I4Ao_7rZsk_2"
      },
      "source": [
        "### **treino**\n",
        "Conte quantas sequências do arquivo orchid.gbk tem mais de 700 aminoácidos."
      ]
    },
    {
      "cell_type": "code",
      "metadata": {
        "id": "1X_fm9y5tQne"
      },
      "source": [
        "### escreva seu código aqui"
      ],
      "execution_count": null,
      "outputs": []
    },
    {
      "cell_type": "markdown",
      "metadata": {
        "id": "O2nRIjycwnwI"
      },
      "source": [
        "#### Solução"
      ]
    },
    {
      "cell_type": "code",
      "metadata": {
        "colab": {
          "base_uri": "https://localhost:8080/"
        },
        "id": "CcLrLo8Eta69",
        "outputId": "937e38fe-7411-46f6-d68a-e6a5eb4cfcab"
      },
      "source": [
        "## solução exemplo\n",
        "from Bio import SeqIO\n",
        "arquivo = \"orchid.gbk\"\n",
        "total = 0\n",
        "count = 0\n",
        "for record in SeqIO.parse(arquivo, \"genbank\"):\n",
        "    total = total + 1\n",
        "    if len(record.seq) > 700:\n",
        "      count += 1\n",
        "print(\"há \" + str(total) + \" sequencias no arquivo \" + arquivo + \" das quais \"+ str(count) + \" tem mais de 700 aminoácidos\")"
      ],
      "execution_count": null,
      "outputs": [
        {
          "output_type": "stream",
          "text": [
            "há 94 sequencias no arquivo orchid.gbk das quais 74 tem mais de 700 aminoácidos\n"
          ],
          "name": "stdout"
        }
      ]
    },
    {
      "cell_type": "markdown",
      "metadata": {
        "id": "q0k3tolS-WeX"
      },
      "source": [
        "# Objeto SeqRecord"
      ]
    },
    {
      "cell_type": "markdown",
      "metadata": {
        "id": "gRgY7QcTqdzZ"
      },
      "source": [
        "Na aula passada introduzimos a classe Seq. Acontece que a classe Seq faz parte de outra classe, a  **Sequence Record** ou\n",
        "**SeqRecord**, definida no módulo **Bio.SeqRecord**. Essa classe permite utilizar recursos de níveis mais altos como identificadores e \"features\" associados às sequencias, bem como facilita a conversão de formatos."
      ]
    },
    {
      "cell_type": "markdown",
      "metadata": {
        "id": "dlGx_IS79Idu"
      },
      "source": [
        "A classe SeqRecord tem os atributos:\n",
        "\n",
        "* seq – A sequencia, tipicamente um objeto **Seq**.\n",
        "* id – O ID primário usado para identificar a sequencia – **string**\n",
        "\n",
        "* name – Análogo ao LOCUS no arquivo do GenBank, pode ser um nome comum ou um clone do ID - **string**\n",
        "* description – Uma descrição 'entendível' por humanos - **string**.\n",
        "* letter annotations – **Dicionário** onde as chaves são o nome da informação e o valor é uma sequencia em python (lista, tupla ou string) com o mesmo tamanho da sequência. Normalmente usado para scores de qualidade de alinhamento ou informações de estrutura secundária (arquivos de alinhamento Stockholm/PFAM, fora do escopo desse minicurso).\n",
        "\n",
        "* annotations – Dicionário de informações adicionais sobre a sequência, permitindo adição de informações mais \"desestruturadas. - **dict**\n",
        "* features – Uma lista de **objetos SeqFeature** com dados mais estruturados\n",
        "(posição de genes no genoma, domínios em uma sequencia protéica, etc).\n",
        "* dbxrefs - referencias cruzadas em databases - **lista de strings**"
      ]
    },
    {
      "cell_type": "markdown",
      "metadata": {
        "id": "L710klFECK3Y"
      },
      "source": [
        "Note que nem todos os atributos precisam ter algo"
      ]
    },
    {
      "cell_type": "code",
      "metadata": {
        "id": "pxWRSqfq-fka"
      },
      "source": [
        "for seq_record in SeqIO.parse(\"orchid.gbk\", \"gb\"):\n",
        "  print(seq_record.id)\n",
        "  print(seq_record.name)\n",
        "  print(seq_record.description)\n",
        "  print(seq_record.letter_annotations)\n",
        "  print(seq_record.annotations)\n",
        "  print(seq_record.features)\n",
        "  print(seq_record.dbxrefs)\n",
        "  "
      ],
      "execution_count": null,
      "outputs": []
    },
    {
      "cell_type": "markdown",
      "metadata": {
        "id": "_UehbCoKFkBd"
      },
      "source": [
        "### Criando um objeto seqRecord"
      ]
    },
    {
      "cell_type": "markdown",
      "metadata": {
        "id": "SdtWcRuGGq5Q"
      },
      "source": [
        "para criar um objeto SeqRecord você só precisa ter inicialmente um objeto Seq"
      ]
    },
    {
      "cell_type": "code",
      "metadata": {
        "id": "NAT7a2FIFq0i"
      },
      "source": [
        "from Bio.Seq import Seq\n",
        "seq_simples = Seq(\"GATC\")\n",
        "\n",
        "from Bio.SeqRecord import SeqRecord\n",
        "seq_anotada = SeqRecord(seq_simples)"
      ],
      "execution_count": null,
      "outputs": []
    },
    {
      "cell_type": "markdown",
      "metadata": {
        "id": "Z2JEUSHSG7M8"
      },
      "source": [
        "depois de criado, é possível popular os outros atributos com informações"
      ]
    },
    {
      "cell_type": "code",
      "metadata": {
        "id": "KUzAv-NDHKva"
      },
      "source": [
        "seq_anotada.id = \"BP1234\"\n",
        "seq_anotada.name =\"minhaSeqAnotada\"\n",
        "seq_anotada.description = \"minha linda descrição\"\n",
        "print(seq_anotada.format(\"fasta\"))"
      ],
      "execution_count": null,
      "outputs": []
    },
    {
      "cell_type": "markdown",
      "metadata": {
        "id": "jUflam9zMCib"
      },
      "source": [
        "Para adicionar itens no anottations (e no letter) é só lembrar que ambos são dicionários normais. "
      ]
    },
    {
      "cell_type": "code",
      "metadata": {
        "id": "1gGO_F7ZMBJv",
        "colab": {
          "base_uri": "https://localhost:8080/"
        },
        "outputId": "eeb3b280-9040-47a0-c9ee-b61c03cb8037"
      },
      "source": [
        "#seq_anotada.letter_annotations[\"phred_quality\"] = [40, 40, 38, 30]\n",
        "seq_anotada.annotations[\"organism\"] = \"unicorn\"\n",
        "seq_anotada.annotations[\"source\"] = \"minha imaginação\"\n",
        "print(repr(seq_anotada))\n",
        "\n",
        "print(seq_anotada.annotations)"
      ],
      "execution_count": null,
      "outputs": [
        {
          "output_type": "stream",
          "text": [
            "SeqRecord(seq=Seq('GATC'), id='BP1234', name='minhaSeqAnotada', description='minha linda descrição', dbxrefs=[])\n",
            "{'organism': 'unicorn', 'source': 'minha imaginação'}\n"
          ],
          "name": "stdout"
        }
      ]
    },
    {
      "cell_type": "code",
      "metadata": {
        "id": "noDALW0SNr9w"
      },
      "source": [
        "#print(seq_anotada.format(\"genbank\"))"
      ],
      "execution_count": null,
      "outputs": []
    },
    {
      "cell_type": "markdown",
      "metadata": {
        "id": "H-di9YiuJuUM"
      },
      "source": [
        "Repare que apesar de ser possível colocar em tese qualquer coisa como anotação, não será possível converter para outros formatos que não compartilhem a mesma estrutura de chaves de dicionário.\n",
        "\n",
        "Vamos importar mais um arquivo para continuar essa sessão. Dessa vez usaremos um exemplo com valores em todos os atributos. "
      ]
    },
    {
      "cell_type": "code",
      "metadata": {
        "id": "vWFofoMZJsmn"
      },
      "source": [
        "from urllib.request import urlretrieve\n",
        "urlretrieve(\"https://raw.githubusercontent.com/biopython/biopython/master/Tests/GenBank/NC_005816.gb\", \"single_seq.gbk\")"
      ],
      "execution_count": null,
      "outputs": []
    },
    {
      "cell_type": "markdown",
      "metadata": {
        "id": "MHo0MwS5KOIR"
      },
      "source": [
        "Sabemos que esse arquivo tem uma única sequencia, poderíamos cuntinuar usando o for loop e o **SeqIO.parse()** mas o biopython oferece uma opção em casos especiais com apenas uma sequencia: o **SeqIO.read()**."
      ]
    },
    {
      "cell_type": "code",
      "metadata": {
        "id": "-LxxLrukLrwn"
      },
      "source": [
        "from Bio import SeqIO\n",
        "record = SeqIO.read(\"single_seq.gbk\", \"gb\")\n",
        "print(record.id + \" length \" + str(len(record)))"
      ],
      "execution_count": null,
      "outputs": []
    },
    {
      "cell_type": "markdown",
      "metadata": {
        "id": "kXhP5_ZoMCVC"
      },
      "source": [
        "*Eu sei que você agora quer tentar usar o read com os outros arquivos, então vá em frente e tente!*"
      ]
    },
    {
      "cell_type": "code",
      "metadata": {
        "id": "ivzAmvmeM2yZ"
      },
      "source": [
        "print(record.name)\n",
        "print(record.annotations)\n",
        "print(record.annotations['organism'])"
      ],
      "execution_count": null,
      "outputs": []
    },
    {
      "cell_type": "markdown",
      "metadata": {
        "id": "Btn24i0rpW1X"
      },
      "source": [
        "#### Treino 2: \n",
        "Sem abrir o arquivo no navegador, acesse o arquivo \"sequence.gb\" e obtenha informações do organismo"
      ]
    },
    {
      "cell_type": "code",
      "metadata": {
        "id": "lQE54zycspiK"
      },
      "source": [
        "#Importando o arquivo como \n",
        "urlretrieve(\"https://raw.githubusercontent.com/biopyladies/Minicurso-biopython-wbds/main/notebooks/arquivos/sequence.gb\", \"sequence.gbk\")\n",
        "#Escreva seu código abaixo\n"
      ],
      "execution_count": null,
      "outputs": []
    },
    {
      "cell_type": "markdown",
      "metadata": {
        "id": "L-VI1qAbGzyB"
      },
      "source": [
        "# Classe SeqFeature"
      ]
    },
    {
      "cell_type": "markdown",
      "metadata": {
        "id": "z-nKFNhFk3jN"
      },
      "source": [
        "É com essa classe que se cria o atributo feature do SeqRecord. A classe SeqFeature tenta encapsular o máximo possível de informações sobre a sequência. O design é fortemente baseado nas tabelas de recursos do GenBank / EMBL.\n",
        "\n",
        "A ideia principal sobre cada objeto SeqFeature é descrever uma região em uma sequência específica. Essa região é descrita com um objeto de localização, normalmente um intervalo entre duas posições (mRna, gene, exons, introns, etc).\n",
        "\n",
        "Atributos da classe SeqFeature:\n",
        "\n",
        "1. **type**: descreve o tipo de feature, ex: gene, mRNA ...\n",
        "\n",
        "2. **locations**: para descrever as regiões da sequência, usamos o atributo locations e outros métodos que veremos mais para frente.\n",
        "3. **qualifiers**: é um dicionário Python de informações adicionais. ex: uma chave poderia ser [\"evidência\"] = \"não experimental\" para indicar que o gene foi encontrado de maneira computacional.\n",
        "4. **sub_features**: IGNOREM ESSE ATRIBUTO. Se tornou obsoleto com a criação do objeto CompoundLocation (veremos a seguir)."
      ]
    },
    {
      "cell_type": "code",
      "metadata": {
        "id": "uPNqhnLfOeVC"
      },
      "source": [
        "from Bio.SeqFeature import SeqFeature"
      ],
      "execution_count": 6,
      "outputs": []
    },
    {
      "cell_type": "markdown",
      "metadata": {
        "id": "T8VFCG8fHG1c"
      },
      "source": [
        "**Objeto FeatureLocation**\n",
        "\n",
        "Em genes de procarioto, a maioria das localizações do SeqFeature são extremamente simples - você só precisa de coordenadas de início e fim e uma fita. Isso é essencialmente tudo o que o objeto FeatureLocation básico faz.\n",
        "\n",
        "Em eucariotos, há altas chances de termos que lidar com locais compostos (óperons). Além disso, as próprias posições podem ser confusas (inexatas). Para isso, foi criado o **Objeto CompoundLocation**, que junta regiões de genes em locais diferentes.\n",
        "\n",
        "Para analisar genes com posições não tão certas, temos o conceito de **posições fuzzy**, mas como é muito específico, não trouxe aqui. Para saber mais: [4.3.2.3 do Manual Python](https://biopython.org/DIST/docs/tutorial/Tutorial.html#sec%3Alocations/) \n",
        "\n"
      ]
    },
    {
      "cell_type": "markdown",
      "metadata": {
        "id": "ajz7UrTOO0Qw"
      },
      "source": [
        "Observe que CDS do GenBank ou arquivos EMBL é a união dos exons - eles não cobrem nenhum íntron."
      ]
    },
    {
      "cell_type": "code",
      "metadata": {
        "id": "YjP6vD4VPAKc"
      },
      "source": [
        "record = SeqIO.read(\"single_seq.gbk\", \"gb\")\n",
        "for feature in record.features:\n",
        "  print(feature)"
      ],
      "execution_count": null,
      "outputs": []
    },
    {
      "cell_type": "markdown",
      "metadata": {
        "id": "4g7N0-D3PcQU"
      },
      "source": [
        "Print só os tipos (atributo type)"
      ]
    },
    {
      "cell_type": "code",
      "metadata": {
        "id": "rlCMz9VlPhOK"
      },
      "source": [
        "for feature in record.features:\n",
        "  print(feature.type)"
      ],
      "execution_count": null,
      "outputs": []
    },
    {
      "cell_type": "markdown",
      "metadata": {
        "id": "13pgUquTQaZ3"
      },
      "source": [
        "Print só os dicionários com informações dos tipos (atributo qualifiers)"
      ]
    },
    {
      "cell_type": "code",
      "metadata": {
        "id": "e9-f2VKrQZHh"
      },
      "source": [
        "for feature in record.features:\n",
        "  print(feature.qualifiers)"
      ],
      "execution_count": null,
      "outputs": []
    },
    {
      "cell_type": "markdown",
      "metadata": {
        "id": "07511ft4d9qf"
      },
      "source": [
        "Procurando uma informação no features"
      ]
    },
    {
      "cell_type": "code",
      "metadata": {
        "id": "sk6CpEWcd-af"
      },
      "source": [
        "#pesquisando se  é a informação de algum tipo de feature, se sim, qual o tipo e a localização\n",
        "for feature in record.features:\n",
        "  if [\"hypothetical protein\"] in feature.qualifiers.values():\n",
        "    print(feature.type, feature.location)"
      ],
      "execution_count": null,
      "outputs": []
    },
    {
      "cell_type": "markdown",
      "metadata": {
        "id": "0z0z9xv-8WTG"
      },
      "source": [
        "## Fatiando objetos SeqRecord (Slicing SeqRecord)\n",
        "\n",
        "Selecionando uma parte do objeto SeqRecord e o transformando em outro objeto SeqRecord"
      ]
    },
    {
      "cell_type": "code",
      "metadata": {
        "id": "98fTJJkO8aat"
      },
      "source": [
        "other_record = record.features[4].location\n",
        "print(other_record)"
      ],
      "execution_count": null,
      "outputs": []
    },
    {
      "cell_type": "code",
      "metadata": {
        "id": "xAuqfSX8ki0_"
      },
      "source": [
        "other_record = record[86:959]\n",
        "type(other_record)\n",
        "print(other_record)"
      ],
      "execution_count": null,
      "outputs": []
    },
    {
      "cell_type": "markdown",
      "metadata": {
        "id": "Pk_Z0w7-9Y47"
      },
      "source": [
        "Algumas informações sobre o SeqRecord original são mantidas para o novo SeqRecord, porém é necessário fazer algumas atualizações para informações que não fazem sentido."
      ]
    },
    {
      "cell_type": "code",
      "metadata": {
        "id": "mgFxs3MP97yA"
      },
      "source": [
        "print(other_record.id) #mesmo id\n",
        "print(other_record.seq)\n",
        "print(other_record.description) # não é mais um plasmidio completo\n",
        "print(other_record.annotations)\n",
        "print(other_record.features)"
      ],
      "execution_count": null,
      "outputs": []
    },
    {
      "cell_type": "code",
      "metadata": {
        "id": "V3uC4Xy8-grN"
      },
      "source": [
        "other_record.description = \"Yersinia pestis biovar Microtus str. 91001 plasmid pPCP1. Misc feature\"\n",
        "print(other_record)"
      ],
      "execution_count": null,
      "outputs": []
    },
    {
      "cell_type": "markdown",
      "metadata": {
        "id": "WRUJarISC51l"
      },
      "source": [
        "## Extrair Location"
      ]
    },
    {
      "cell_type": "markdown",
      "metadata": {
        "id": "W9a-HyofDHq0"
      },
      "source": [
        "Um SeqFeature ou objeto de \"location\" não contém a sequencia direta, mas direciona para como conseguir extrair a sequencia da sequencia original. Para esse exemplo imagine um gene com uma \"location\" 5:18 na fita reversa:"
      ]
    },
    {
      "cell_type": "code",
      "metadata": {
        "id": "Xd9jq5iwDG_N"
      },
      "source": [
        "from Bio.Seq import Seq\n",
        "from Bio.SeqFeature import SeqFeature, FeatureLocation\n",
        "seq = Seq(\"ACCGAGACGGCAAAGGCTAGCATAGGTATGAGACTTCCTTCCTGCCAGTGCTGAGGAACTGGGAGCCTAC\")\n",
        "feature = SeqFeature(FeatureLocation(5, 18), type=\"gene\", strand=-1)\n",
        "##### Sim, pulamos antes como criar um SeqFeature para simplificar\n",
        "##### sem bancada não se encontra location!"
      ],
      "execution_count": null,
      "outputs": []
    },
    {
      "cell_type": "markdown",
      "metadata": {
        "id": "Mf3wEC6LEJu7"
      },
      "source": [
        "Você poderia pegar manualmente, fazer o reverso complemento e o slicing e funcionaria, porém o biopython já te cobre com o método **extract**"
      ]
    },
    {
      "cell_type": "code",
      "metadata": {
        "id": "WVMk7WFtEhJh",
        "colab": {
          "base_uri": "https://localhost:8080/"
        },
        "outputId": "c0c599a7-ef95-41f8-cf04-25d1d362315d"
      },
      "source": [
        "#manualmente\n",
        "feature_seq = seq[feature.location.start:feature.location.end].reverse_complement()\n",
        "print(feature_seq)\n",
        "\n",
        "\n",
        "feature_seq = feature.extract(seq)\n",
        "print(feature_seq)\n"
      ],
      "execution_count": null,
      "outputs": [
        {
          "output_type": "stream",
          "text": [
            "AGCCTTTGCCGTC\n",
            "AGCCTTTGCCGTC\n"
          ],
          "name": "stdout"
        }
      ]
    },
    {
      "cell_type": "markdown",
      "metadata": {
        "id": "ljkvcGq8FPMu"
      },
      "source": [
        "## Comparando SeqRecords"
      ]
    },
    {
      "cell_type": "markdown",
      "metadata": {
        "id": "_z7YjA70FV9u"
      },
      "source": [
        "Em resumo, não é possível. *Compare os atributos!*"
      ]
    },
    {
      "cell_type": "code",
      "metadata": {
        "id": "oft0-CuOFgDQ"
      },
      "source": [
        "record1 = SeqRecord(Seq(\"ACGTTTTTCAGCTAGCAAAAAATCCCCAAATC\"), id=\"A12\")\n",
        "record2 = SeqRecord(Seq(\"ACGTTTTTCAGCACTAGCTAGATTAGCATC\"), id=\"A25\")\n",
        "\n",
        "#record1 == record2 isso vai dar errado\n",
        "\n",
        "record1.seq == record2.seq"
      ],
      "execution_count": null,
      "outputs": []
    },
    {
      "cell_type": "markdown",
      "metadata": {
        "id": "N5nm-lcR3BcS"
      },
      "source": [
        "### Treino 3:\n",
        "Usando o arquivo \"sequence.gbk\", encontre a location da \"plasmid recombination protein\" e extraia a sequencia"
      ]
    },
    {
      "cell_type": "code",
      "metadata": {
        "id": "1Mz7bqDf5Vt3"
      },
      "source": [
        "# seu código aqui"
      ],
      "execution_count": 25,
      "outputs": []
    },
    {
      "cell_type": "markdown",
      "metadata": {
        "id": "9NL4t9QM5YAL"
      },
      "source": [
        "###### Solução:"
      ]
    },
    {
      "cell_type": "code",
      "metadata": {
        "id": "tyxXd22J5cKJ"
      },
      "source": [
        "record2 = SeqIO.read(\"sequence.gbk\", \"gb\")\n",
        "for feature in record2.features:\n",
        "  if [\"plasmid recombination protein\"] in feature.qualifiers.values():\n",
        "    print(feature.location)\n",
        "    print(feature.extract(record2.seq))\n",
        "    "
      ],
      "execution_count": null,
      "outputs": []
    },
    {
      "cell_type": "markdown",
      "metadata": {
        "id": "BpxqrZo162Uh"
      },
      "source": [
        "# Salvando SeqRecords em um dicionário"
      ]
    },
    {
      "cell_type": "markdown",
      "metadata": {
        "id": "oCflCpj_7gDB"
      },
      "source": [
        "Até aqui usamos variáveis e iteradores para acessar os dados, mas ao se trabalhar com uma longa coleção de sequencias, você pode querer ter alguma forma de manter esses dados de forma organizada na memória\n",
        "\n",
        "\n",
        " ainda três funções relacionadas no módulo Bio.SeqIO que permitem um colocar em um **dicionário** um arquivo de várias sequências. **Há um trade off aqui entre flexibilidade e uso de memória**. \n",
        "\n",
        "• **SeqIO.to_dict()** é a opção **mais flexível**, mas também a que **mais exige memória**. Esta é basicamente uma função auxiliar para construir um dicionário Python normal com cada entrada mantida como um objeto SeqRecord na memória, permitindo que você modifique os registros. (por padrão a chave será o ID d cada registro)"
      ]
    },
    {
      "cell_type": "code",
      "metadata": {
        "id": "F692r_If9a23"
      },
      "source": [
        "orchid_dict = SeqIO.to_dict(SeqIO.parse(\"orchid.gbk\", \"gb\"))"
      ],
      "execution_count": null,
      "outputs": []
    },
    {
      "cell_type": "markdown",
      "metadata": {
        "id": "Iv5VW2Kt9ppM"
      },
      "source": [
        "\n",
        "• **SeqIO.index()** é um **meio termo útil**, agindo **\"como um dicionário\" somente leitura** e analisando sequências em objetos SeqRecord sob demanda.\n"
      ]
    },
    {
      "cell_type": "code",
      "metadata": {
        "id": "4XH2Amvg9s2c"
      },
      "source": [
        "orchid_dict = SeqIO.index(\"orchid.gbk\", \"gb\")"
      ],
      "execution_count": null,
      "outputs": []
    },
    {
      "cell_type": "markdown",
      "metadata": {
        "id": "gOBqmaAn9tVw"
      },
      "source": [
        "\n",
        "• **SeqIO.index_db()** também atua **\"como um dicionário\" somente leitura**, mas armazena os identificadores e a localização de arquivo (file offsets) em um arquivo no disco (como um banco de dados SQLite3), o que significa que tem **requisitos de memória muito baixos**, mas é **um pouco mais lento**."
      ]
    },
    {
      "cell_type": "code",
      "metadata": {
        "id": "-RgkzK5O-j-w"
      },
      "source": [
        "# vamos baixar primeiro um arquivo grande para ele indexar\n",
        "!curl -O ftp://ftp.ncbi.nih.gov/genbank/gbvrl1.seq.gz\n",
        "!curl -O ftp://ftp.ncbi.nih.gov/genbank/gbvrl2.seq.gz\n",
        "!curl -O ftp://ftp.ncbi.nih.gov/genbank/gbvrl3.seq.gz\n",
        "!curl -O ftp://ftp.ncbi.nih.gov/genbank/gbvrl4.seq.gz\n",
        "\n",
        "# descompactar\n",
        "!gunzip gbvrl*.seq.gz\n",
        "import glob \n",
        "files = glob.glob(\"gbvrl*.seq\")\n",
        "\n",
        "gb_vrl = SeqIO.index_db(\"gbvrl.idx\", files, \"genbank\")\n",
        "print(f\"{len(gb_vrl)} sequências indexadas\")\n",
        "\n"
      ],
      "execution_count": null,
      "outputs": []
    },
    {
      "cell_type": "markdown",
      "metadata": {
        "id": "8ieO0MVG_ieS"
      },
      "source": [
        "N exemplo, considere as versões de arquivo simples do GenBank do site FTP do NCBI, ftp://ftp.ncbi.nih.gov/genbank/, que são arquivos GenBank compactados com gzip. Na versão 210 do GenBank, há 38 arquivos constituindo as sequências virais, gbvrl1.seq,. . . , gbvrl38.seq, ocupando cerca de 8 GB no disco depois de descompactado e contendo no total quase dois milhões de registros...."
      ]
    },
    {
      "cell_type": "markdown",
      "metadata": {
        "id": "SB_ElNPWAl2H"
      },
      "source": [
        "A indexação dos primeiros quatro arquivos demora cerca de um minuto. \n",
        "No entanto, uma vez feito, repetir isso recarregará o arquivo gbvrl.idx em uma fração de segundo. Você pode usar o índice como um dicionário Python somente leitura, sem precisar se preocupar com o arquivo de origem da sequência, por exemplo:\n"
      ]
    },
    {
      "cell_type": "code",
      "metadata": {
        "colab": {
          "base_uri": "https://localhost:8080/"
        },
        "id": "haouhGo7AsQF",
        "outputId": "bd83914f-7ba8-4f00-d711-c4fd9923d51a"
      },
      "source": [
        "print(gb_vrl[\"AB811634.1\"].description)"
      ],
      "execution_count": null,
      "outputs": [
        {
          "output_type": "stream",
          "text": [
            "Equine encephalosis virus NS3 gene, complete cds, isolate: Kimron1\n"
          ],
          "name": "stdout"
        }
      ]
    },
    {
      "cell_type": "markdown",
      "metadata": {
        "id": "j16Rk3BuA8Pu"
      },
      "source": [
        "No mais, todos os 3 médotos de indexação darão o mesmo resultado e podem ser usados da mesma forma após criados (são dicionários normais!)"
      ]
    },
    {
      "cell_type": "markdown",
      "metadata": {
        "id": "jOHWdiKjnapr"
      },
      "source": [
        "# Escrevendo arquivos"
      ]
    },
    {
      "cell_type": "markdown",
      "metadata": {
        "id": "veQkrqPXQZpb"
      },
      "source": [
        "Para escrever arquivos de sequencias usamos a função **Bio.SeqIO.write()**, que tem como argumentos um iterador (ou lista) SeqRecord, um handle para o output (ou nome do arquivo), e o formato:"
      ]
    },
    {
      "cell_type": "code",
      "metadata": {
        "id": "9SFrq8HfQY8e",
        "colab": {
          "base_uri": "https://localhost:8080/"
        },
        "outputId": "bf350065-0aa4-45db-f0a3-a6eac04bdfd5"
      },
      "source": [
        "SeqIO.write(seq_anotada, \"exemplo.fasta\", \"fasta\")"
      ],
      "execution_count": null,
      "outputs": [
        {
          "output_type": "execute_result",
          "data": {
            "text/plain": [
              "1"
            ]
          },
          "metadata": {},
          "execution_count": 31
        }
      ]
    },
    {
      "cell_type": "markdown",
      "metadata": {
        "id": "VF9xjb6DOlhF"
      },
      "source": [
        "Você também pode usar a função Bio.SeqIO.convert() para converter entre 2 quaisquer formatos. (*atenção à perda de informação*)\n",
        "\n",
        "O módulo convert exige 4 argumentos \n",
        "* caminho do arquivo original\n",
        "* formato do arquivo original\n",
        "* nome do novo arquivo\n",
        "* formato do novo arquivo"
      ]
    },
    {
      "cell_type": "code",
      "metadata": {
        "id": "3upimelbOUcZ"
      },
      "source": [
        "SeqIO.convert(\"orchid.gbk\", \"genbank\", \"orchid.fasta\", \"fasta\")"
      ],
      "execution_count": null,
      "outputs": []
    },
    {
      "cell_type": "markdown",
      "metadata": {
        "id": "eY5YeTbBng9A"
      },
      "source": [
        "###Desafio final\n",
        "acesse o arquivo orchid.gbk e salve em um arquivo fasta todos os registros do gênero *Cypripedium*."
      ]
    },
    {
      "cell_type": "code",
      "metadata": {
        "id": "enxcs0M5o2l-"
      },
      "source": [
        "# escreva aqui seu código"
      ],
      "execution_count": null,
      "outputs": []
    },
    {
      "cell_type": "markdown",
      "metadata": {
        "id": "qPH2n3CADuq2"
      },
      "source": [
        "#### Solução"
      ]
    },
    {
      "cell_type": "code",
      "metadata": {
        "id": "PmPmDfcsDyuU"
      },
      "source": [
        "from Bio import SeqIO\n",
        "\n",
        "Seqs = []\n",
        "for seq_record in SeqIO.parse(\"orchid.gbk\", \"gb\"):\n",
        "  if \"Cypripedium\" in seq_record.annotations['taxonomy']:\n",
        "    Seqs.append(seq_record)\n",
        "\n",
        "SeqIO.write(Seqs, \"Cypripedium.fasta\", \"fasta\")\n",
        "\n",
        "\n"
      ],
      "execution_count": null,
      "outputs": []
    },
    {
      "cell_type": "markdown",
      "metadata": {
        "id": "GkaVqOdx8WpB"
      },
      "source": [
        "# Cookbook"
      ]
    },
    {
      "cell_type": "code",
      "metadata": {
        "id": "T3JoLwYI8ycN"
      },
      "source": [
        "# iterador - FASTA\n",
        "for record in SeqIO.parse(\"fasta.fna\", \"fasta\"):\n",
        "  print(f\"ID: {record.id}    Tamanho: {len(record.seq)} nt\")"
      ],
      "execution_count": null,
      "outputs": []
    },
    {
      "cell_type": "code",
      "metadata": {
        "id": "POYlRlv49Kj6"
      },
      "source": [
        "# iterador - GENBANK\n",
        "for record in SeqIO.parse(\"orchid.gbk\", \"gb\"):\n",
        "  print(f\"ID: {record.id}    Tamanho: {len(record.seq)} nt\")"
      ],
      "execution_count": null,
      "outputs": []
    },
    {
      "cell_type": "code",
      "metadata": {
        "id": "Ebd83vF89b0g"
      },
      "source": [
        "# Salvando a informação do iterador em uma lista\n",
        "ids = [record.id for record in SeqIO.parse(\"orchid.gbk\", \"gb\")]\n",
        "print(ids)\n",
        "# indexando em um dicionário\n",
        "orchid_dict = SeqIO.index(\"orchid.gbk\", \"gb\")\n",
        "# recuperando informação\n",
        "seq_record = orchid_dict[\"Z78475.1\"]\n",
        "print(seq_record.description)\n",
        "print(seq_record.seq)"
      ],
      "execution_count": null,
      "outputs": []
    },
    {
      "cell_type": "code",
      "metadata": {
        "id": "4swNkMX0nISo"
      },
      "source": [
        "# Convertendo arquivos\n",
        "count = SeqIO.convert(\"orchid.gbk\", \"genbank\", \"orchid.fasta\", \"fasta\")\n",
        "print(\"Converted %i records\" % count)"
      ],
      "execution_count": null,
      "outputs": []
    },
    {
      "cell_type": "markdown",
      "metadata": {
        "id": "zRKO4HWaVn5B"
      },
      "source": [
        "# Para ir além\n",
        "\n",
        "Esse colab não esgotou o assunto, ainda há muitas funções e truques legais que o biopython pode fazer\n",
        "\n",
        "* usar um parser de baixo nível para rodar arquivos de sequenciamento e high-throughput\n",
        "* baixar os arquivos diretamente dos bancos de dados GenBank, SwissProt \n",
        "* Indexar e trabalhar com arquivos compactados muuuito grandes\n",
        "\n",
        "Consulte aqui a documentação. Nesta aula apresentamos parte dos conteúdos do capítulo 4 e 5 do livro biopython, na próxima aula iremos explorar os bancos de dados  online."
      ]
    },
    {
      "cell_type": "markdown",
      "metadata": {
        "id": "Zhz6KaEOKYFO"
      },
      "source": [
        "# **Feedback Minicurso**\n",
        "\n",
        "[DIA 2](https://docs.google.com/forms/d/e/1FAIpQLSeH6LofkWSbzcrwo8Q51N5FsuX3oOneBwAlb8PvPXFe_Fyn_Q/viewform?usp=sf_link)"
      ]
    }
  ]
}